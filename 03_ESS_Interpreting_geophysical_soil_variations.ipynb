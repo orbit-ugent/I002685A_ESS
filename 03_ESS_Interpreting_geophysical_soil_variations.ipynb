{
 "cells": [
  {
   "cell_type": "code",
   "execution_count": null,
   "metadata": {},
   "outputs": [],
   "source": []
  },
  {
   "cell_type": "markdown",
   "metadata": {},
   "source": [
    "### Loading data\n",
    "\n",
    "In **_code cell 0.3_**, you can load all survey data you have collected during the field practicum. \n",
    "These include:\n",
    "- FDEM_surveydata: full survey dataset of the Bottelare testfield;\n",
    "- FDEM_transect: extract of the survey dataset along a reference transect. You can use this to test analytical procedures, which you can then deploy across the full survey dataset;\n",
    "- sampling_data: calibration and validation sample dataset, collected as two independent stratified random sample sets (samples 1 - 10 =  calibration; 11 - 15 =  validation).\n",
    "\n",
    "The sampling_data dataset includes the x and y coordinates of the samples along with their ID's, and analytical data on:\n",
    "\n",
    "- bulk density in g/cm^3   (`bd [g/cm3]`);\n",
    "- volumetric water content in % (`vwc [%]`);\n",
    "- clay content in %   (`clay [%]`);\n",
    "- soil organic matter in %   (`SOM [%]`);\n",
    "- gravimetric water content (`gmc [%]`);\n",
    "- silt content in %   (`silt [%]`);\n",
    "- sand content in %   (`sand [%]`);\n",
    "- porosity [dimensionless]   (`por [-]`);\n",
    "- total organic carbon in g/kg   (`SOC [g/kg]`);\n",
    "\n",
    "- hydraprobe volumetric water content in %   (`hydra_vwc [%]`)\n",
    "- hydraprobe raw EC in mS/m   (`hydra_ec [mS/m]`)\n",
    "- hydraprobe soil pore water EC in mS/m   (`hydra_ecp [mS/m]`)\n",
    "- hydraprobe soil temperature in C   (`hydra_tmp [C]`)\n",
    "- hydraprobe temperature corrected EC in mS/m   (`hydra_ect [mS/m]`)\n",
    "- hydraprobe dielectric permittivity [dimensionless]   (`hydra_er [-]`).\n",
    "\n",
    "The column names are shown between the brackets above. \n",
    "You can use these to access the desired data values in the `ds` dataframe (e.g., for bulk density, the values are in the `ds['bd [g/cm3]]` column)."
   ]
  }
 ],
 "metadata": {
  "language_info": {
   "name": "python"
  }
 },
 "nbformat": 4,
 "nbformat_minor": 2
}
